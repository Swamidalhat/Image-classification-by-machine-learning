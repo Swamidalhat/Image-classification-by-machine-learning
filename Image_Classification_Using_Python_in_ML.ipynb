{
  "nbformat": 4,
  "nbformat_minor": 0,
  "metadata": {
    "colab": {
      "name": "Copy of Image Classification Using Python in ML.ipynb",
      "provenance": [],
      "collapsed_sections": [],
      "include_colab_link": true
    },
    "kernelspec": {
      "display_name": "Python 3",
      "name": "python3"
    },
    "language_info": {
      "name": "python"
    }
  },
  "cells": [
    {
      "cell_type": "markdown",
      "metadata": {
        "id": "view-in-github",
        "colab_type": "text"
      },
      "source": [
        "<a href=\"https://colab.research.google.com/github/Swamidalhat/Swamidalhat/blob/main/Image_Classification_Using_Python_in_ML.ipynb\" target=\"_parent\"><img src=\"https://colab.research.google.com/assets/colab-badge.svg\" alt=\"Open In Colab\"/></a>"
      ]
    },
    {
      "cell_type": "code",
      "metadata": {
        "colab": {
          "base_uri": "https://localhost:8080/"
        },
        "id": "5AGz5JKVOZoH",
        "outputId": "2e124da6-348b-4bbc-9351-bd0da410b866"
      },
      "source": [
        "!pip install ipython-autotime\n",
        "%load_ext autotime"
      ],
      "execution_count": null,
      "outputs": [
        {
          "output_type": "stream",
          "name": "stdout",
          "text": [
            "Collecting ipython-autotime\n",
            "  Downloading ipython_autotime-0.3.1-py2.py3-none-any.whl (6.8 kB)\n",
            "Requirement already satisfied: ipython in /usr/local/lib/python3.7/dist-packages (from ipython-autotime) (5.5.0)\n",
            "Requirement already satisfied: pygments in /usr/local/lib/python3.7/dist-packages (from ipython->ipython-autotime) (2.6.1)\n",
            "Requirement already satisfied: pickleshare in /usr/local/lib/python3.7/dist-packages (from ipython->ipython-autotime) (0.7.5)\n",
            "Requirement already satisfied: setuptools>=18.5 in /usr/local/lib/python3.7/dist-packages (from ipython->ipython-autotime) (57.4.0)\n",
            "Requirement already satisfied: traitlets>=4.2 in /usr/local/lib/python3.7/dist-packages (from ipython->ipython-autotime) (5.1.1)\n",
            "Requirement already satisfied: simplegeneric>0.8 in /usr/local/lib/python3.7/dist-packages (from ipython->ipython-autotime) (0.8.1)\n",
            "Requirement already satisfied: decorator in /usr/local/lib/python3.7/dist-packages (from ipython->ipython-autotime) (4.4.2)\n",
            "Requirement already satisfied: prompt-toolkit<2.0.0,>=1.0.4 in /usr/local/lib/python3.7/dist-packages (from ipython->ipython-autotime) (1.0.18)\n",
            "Requirement already satisfied: pexpect in /usr/local/lib/python3.7/dist-packages (from ipython->ipython-autotime) (4.8.0)\n",
            "Requirement already satisfied: wcwidth in /usr/local/lib/python3.7/dist-packages (from prompt-toolkit<2.0.0,>=1.0.4->ipython->ipython-autotime) (0.2.5)\n",
            "Requirement already satisfied: six>=1.9.0 in /usr/local/lib/python3.7/dist-packages (from prompt-toolkit<2.0.0,>=1.0.4->ipython->ipython-autotime) (1.15.0)\n",
            "Requirement already satisfied: ptyprocess>=0.5 in /usr/local/lib/python3.7/dist-packages (from pexpect->ipython->ipython-autotime) (0.7.0)\n",
            "Installing collected packages: ipython-autotime\n",
            "Successfully installed ipython-autotime-0.3.1\n",
            "time: 2.19 ms (started: 2021-11-30 09:29:50 +00:00)\n"
          ]
        }
      ]
    },
    {
      "cell_type": "code",
      "metadata": {
        "colab": {
          "base_uri": "https://localhost:8080/"
        },
        "id": "Z5i81wIlOmrT",
        "outputId": "ae1bfc2b-7718-4a8f-98d9-3fdba82f29c5"
      },
      "source": [
        "!pip install bing-image--downloader"
      ],
      "execution_count": null,
      "outputs": [
        {
          "output_type": "stream",
          "name": "stdout",
          "text": [
            "Collecting bing-image--downloader\n",
            "  Downloading bing_image_downloader-1.1.1-py3-none-any.whl (5.7 kB)\n",
            "Installing collected packages: bing-image-downloader\n",
            "Successfully installed bing-image-downloader-1.1.1\n",
            "time: 3.05 s (started: 2021-11-30 09:30:28 +00:00)\n"
          ]
        }
      ]
    },
    {
      "cell_type": "code",
      "metadata": {
        "colab": {
          "base_uri": "https://localhost:8080/"
        },
        "id": "mPc92QrbOvrc",
        "outputId": "16573f2c-5ffc-499f-8f8f-23e5081af577"
      },
      "source": [
        "!mkdir images"
      ],
      "execution_count": null,
      "outputs": [
        {
          "output_type": "stream",
          "name": "stdout",
          "text": [
            "time: 113 ms (started: 2021-11-30 09:30:43 +00:00)\n"
          ]
        }
      ]
    },
    {
      "cell_type": "code",
      "metadata": {
        "colab": {
          "base_uri": "https://localhost:8080/"
        },
        "id": "F0EQi5knOy3G",
        "outputId": "2e7ff3be-66d2-47b2-f6cc-fef7bec7b270"
      },
      "source": [
        "from bing_image_downloader import downloader\n",
        "downloader.download(\"green grapes\",limit=30,output_dir='images',adult_filter_off=True)"
      ],
      "execution_count": null,
      "outputs": [
        {
          "output_type": "stream",
          "name": "stdout",
          "text": [
            "[%] Downloading Images to /content/images/green grapes\n",
            "\n",
            "\n",
            "[!!]Indexing page: 1\n",
            "\n",
            "[%] Indexed 30 Images on Page 1.\n",
            "\n",
            "===============================================\n",
            "\n",
            "[%] Downloading Image #1 from https://upload.wikimedia.org/wikipedia/commons/1/15/Green_grapes.jpg\n",
            "[%] File Downloaded !\n",
            "\n",
            "[%] Downloading Image #2 from https://warrenmars.com/visual_art/theory/colour_wheel/green_grape/green_grapes.jpg\n",
            "[%] File Downloaded !\n",
            "\n",
            "[%] Downloading Image #3 from http://tried-and-true.com/wp-content/uploads/2011/01/Green-Grapes-web-2.jpg\n",
            "[%] File Downloaded !\n",
            "\n",
            "[%] Downloading Image #4 from https://upload.wikimedia.org/wikipedia/commons/thumb/0/0e/Green_Grape.JPG/1200px-Green_Grape.JPG\n",
            "[%] File Downloaded !\n",
            "\n",
            "[%] Downloading Image #5 from http://tried-and-true.com/wp-content/uploads/2011/01/Green-Grapes-Web.jpg\n",
            "[%] File Downloaded !\n",
            "\n",
            "[%] Downloading Image #6 from https://i.pinimg.com/originals/ac/ec/57/acec5722241f33ac15fe5e5201413beb.jpg\n",
            "[%] File Downloaded !\n",
            "\n",
            "[%] Downloading Image #7 from https://jasminevineyards.com/wp-content/uploads/2018/12/grapes-green-1900-1080x675.png\n",
            "[%] File Downloaded !\n",
            "\n",
            "[%] Downloading Image #8 from https://cdn2.stylecraze.com/wp-content/uploads/2014/07/Is-It-True-That-Eating-Too-Many-Grapes-Causes-Side-Effects.jpg\n",
            "[%] File Downloaded !\n",
            "\n",
            "[%] Downloading Image #9 from http://4.bp.blogspot.com/_2UbsSBz9ckE/TJAbxU1O3fI/AAAAAAAABWg/wzLUOqqCTxE/s1600/folle-blanche-wallpapers_1600x1200-Wallpaper.jpg\n",
            "[%] File Downloaded !\n",
            "\n",
            "[%] Downloading Image #10 from https://images-na.ssl-images-amazon.com/images/I/61IO4txt5ZL._SL1200_.jpg\n",
            "[%] File Downloaded !\n",
            "\n",
            "[%] Downloading Image #11 from https://static.wixstatic.com/media/603e50_c5f041a2c8c844f4ac45bab6a204a3f9~mv2_d_3032_2448_s_4_2.jpg/v1/fill/w_1000,h_807,al_c,q_90,usm_0.66_1.00_0.01/603e50_c5f041a2c8c844f4ac45bab6a204a3f9~mv2_d_3032_2448_s_4_2.jpg\n",
            "[%] File Downloaded !\n",
            "\n",
            "[%] Downloading Image #12 from https://get.pxhere.com/photo/tree-branch-plant-grape-vine-wine-fruit-sweet-leaf-flower-food-green-produce-agriculture-healthy-delicious-juice-shrub-grapes-fruits-vitamins-edible-winegrowing-flowering-plant-vitis-white-grapes-coccoloba-uvifera-land-plant-grapevine-family-521594.jpg\n",
            "[%] File Downloaded !\n",
            "\n",
            "[%] Downloading Image #13 from http://www.cuzcoeats.com/wp-content/uploads/2015/12/GreenGrapes-620x350.jpg\n",
            "[%] File Downloaded !\n",
            "\n",
            "[%] Downloading Image #14 from https://bestseedsonline.com/wp-content/uploads/2019/11/New-Arrival-100-True-Golden-Finger-Green-Sweet-Gra.jpg\n",
            "[%] File Downloaded !\n",
            "\n",
            "[%] Downloading Image #15 from https://i.pinimg.com/originals/81/e0/aa/81e0aa0cff673541e19d695c212957a8.jpg\n",
            "[%] File Downloaded !\n",
            "\n",
            "[%] Downloading Image #16 from https://factorydirectcraft.com/pimages/20200430124132-600231/artificial_green_grape_cluster_true_vintage_1.jpg\n",
            "[%] File Downloaded !\n",
            "\n",
            "[%] Downloading Image #17 from http://warrenmars.com/visual_art/theory/colour_wheel/green_grape/golden_delicious.jpg\n",
            "[%] File Downloaded !\n",
            "\n",
            "[%] Downloading Image #18 from https://i.pinimg.com/originals/68/0c/85/680c851248eabcbab382a6d2fd6f16d5.jpg\n",
            "[%] File Downloaded !\n",
            "\n",
            "[%] Downloading Image #19 from https://gatesfarmshop.co.uk/wp-content/uploads/IMG-20200509-WA0070.jpg\n",
            "[%] File Downloaded !\n",
            "\n",
            "[%] Downloading Image #20 from https://miro.medium.com/max/12000/1*fTwMm8SNDS9nJw8mesoiIA.jpeg\n",
            "[Error]Invalid image, not saving https://miro.medium.com/max/12000/1*fTwMm8SNDS9nJw8mesoiIA.jpeg\n",
            "\n",
            "[!] Issue getting: https://miro.medium.com/max/12000/1*fTwMm8SNDS9nJw8mesoiIA.jpeg\n",
            "[!] Error:: Invalid image, not saving https://miro.medium.com/max/12000/1*fTwMm8SNDS9nJw8mesoiIA.jpeg\n",
            "\n",
            "[%] Downloading Image #20 from https://wakadreams.com/wp-content/uploads/2020/10/dream_of_green_grapes.jpg\n",
            "[%] File Downloaded !\n",
            "\n",
            "[%] Downloading Image #21 from https://ordery.my/skin/uploads/sites/6/2020/04/FC_GrapesGreen-op.jpg\n",
            "[%] File Downloaded !\n",
            "\n",
            "[%] Downloading Image #22 from https://i.pinimg.com/originals/3c/ed/55/3ced55a8f7ab30b3f1a4699b3debe12d.jpg\n",
            "[%] File Downloaded !\n",
            "\n",
            "[%] Downloading Image #23 from https://factorydirectcraft.com/pimages/20160609103843-663887/artificial_green_grape_cluster_swag.jpg\n",
            "[%] File Downloaded !\n",
            "\n",
            "[%] Downloading Image #24 from https://factorydirectcraft.com/pimages/20170220141050-359389/green_artificial_grape_cluster.jpg\n",
            "[%] File Downloaded !\n",
            "\n",
            "[%] Downloading Image #25 from https://i.pinimg.com/originals/23/59/01/235901cdae68f7c21a0b815b27919643.jpg\n",
            "[%] File Downloaded !\n",
            "\n",
            "[%] Downloading Image #26 from http://img1.etsystatic.com/008/0/6694444/il_570xN.367733487_25tt.jpg\n",
            "[%] File Downloaded !\n",
            "\n",
            "[%] Downloading Image #27 from https://s-media-cache-ak0.pinimg.com/736x/bb/6d/92/bb6d927d3fe00b6d776f36145d8b77db--purple-vegetables-greek-tragedy.jpg\n",
            "[%] File Downloaded !\n",
            "\n",
            "[%] Downloading Image #28 from https://i.pinimg.com/originals/c2/ba/b5/c2bab571d0e4837a99ff331adf512671.jpg\n",
            "[%] File Downloaded !\n",
            "\n",
            "[%] Downloading Image #29 from https://i.ebayimg.com/images/g/1JoAAOSw6mZe3WJC/s-l640.jpg\n",
            "[%] File Downloaded !\n",
            "\n",
            "\n",
            "\n",
            "[!!]Indexing page: 2\n",
            "\n",
            "[%] Indexed 35 Images on Page 2.\n",
            "\n",
            "===============================================\n",
            "\n",
            "[%] Downloading Image #30 from https://upload.wikimedia.org/wikipedia/commons/1/15/Green_grapes.jpg\n",
            "[%] File Downloaded !\n",
            "\n",
            "\n",
            "\n",
            "[%] Done. Downloaded 30 images.\n",
            "===============================================\n",
            "\n",
            "Please show your support here\n",
            "https://www.buymeacoffee.com/gurugaurav\n",
            "\n",
            "===============================================\n",
            "\n",
            "time: 13.1 s (started: 2021-11-30 09:31:00 +00:00)\n"
          ]
        }
      ]
    },
    {
      "cell_type": "code",
      "metadata": {
        "colab": {
          "base_uri": "https://localhost:8080/"
        },
        "id": "zw5q7KoYO62d",
        "outputId": "caf240b0-f13d-4ca7-b8ee-30bc9206ce29"
      },
      "source": [
        "from bing_image_downloader import downloader\n",
        "downloader.download(\"locomotive\",limit=30,output_dir='images',adult_filter_off=True)"
      ],
      "execution_count": null,
      "outputs": [
        {
          "output_type": "stream",
          "name": "stdout",
          "text": [
            "[%] Downloading Images to /content/images/locomotive\n",
            "\n",
            "\n",
            "[!!]Indexing page: 1\n",
            "\n",
            "[%] Indexed 30 Images on Page 1.\n",
            "\n",
            "===============================================\n",
            "\n",
            "[%] Downloading Image #1 from http://cs.trains.com/cfs-file.ashx/__key/communityserver-blogs-components-weblogfiles/00-00-00-11-15/1768.prr_2D00_gg1_2D00_4935_2D00_ivy_2D00_city.jpg\n",
            "[%] File Downloaded !\n",
            "\n",
            "[%] Downloading Image #2 from https://i.ytimg.com/vi/hdcxSQZpS6c/maxresdefault.jpg\n",
            "[%] File Downloaded !\n",
            "\n",
            "[%] Downloading Image #3 from https://www.truewestmagazine.com/wp-content/uploads/2016/07/489-Cascade.jpg\n",
            "[%] File Downloaded !\n",
            "\n",
            "[%] Downloading Image #4 from https://www.american-rails.com/images/xDSTMT5118.jpg.pagespeed.ic.IuB3vvdsKh.jpg\n",
            "[%] File Downloaded !\n",
            "\n",
            "[%] Downloading Image #5 from https://i5.walmartimages.com/asr/e511538f-69b6-4103-aaac-53e6f41ae3e5_1.448f8080b19a63081cc25cf6a3e3d90b.jpeg\n",
            "[%] File Downloaded !\n",
            "\n",
            "[%] Downloading Image #6 from http://cs.trains.com/cfs-file.ashx/__key/communityserver-blogs-components-weblogfiles/00-00-00-07-48-Alco/0181.DSC_5F00_8431.JPG\n",
            "[%] File Downloaded !\n",
            "\n",
            "[%] Downloading Image #7 from https://www.american-rails.com/images/xF7DEMO.jpg.pagespeed.ic.a0-j8mZcvj.jpg\n",
            "[%] File Downloaded !\n",
            "\n",
            "[%] Downloading Image #8 from https://live.staticflickr.com/3318/4582574619_6e1a19e18b_b.jpg\n",
            "[%] File Downloaded !\n",
            "\n",
            "[%] Downloading Image #9 from https://i.pinimg.com/originals/fc/29/1b/fc291bdddc5045c6bc4eb79b993392af.jpg\n",
            "[%] File Downloaded !\n",
            "\n",
            "[%] Downloading Image #10 from https://i.pinimg.com/originals/76/91/b1/7691b194b9dfe83efb808a6cf7b1d914.jpg\n",
            "[%] File Downloaded !\n",
            "\n",
            "[%] Downloading Image #11 from https://i.pinimg.com/originals/9e/1e/75/9e1e750a777d62b35f9c0e8503c8bfca.jpg\n",
            "[%] File Downloaded !\n",
            "\n",
            "[%] Downloading Image #12 from https://i.pinimg.com/originals/e6/a0/45/e6a045aa1a7957ceba408d904919de48.jpg\n",
            "[%] File Downloaded !\n",
            "\n",
            "[%] Downloading Image #13 from https://i.pinimg.com/originals/c2/1a/91/c21a91d6772928d542d48af49e2eea4f.jpg\n",
            "[%] File Downloaded !\n",
            "\n",
            "[%] Downloading Image #14 from https://www.american-rails.com/images/ERMINHOYTS.jpg\n",
            "[%] File Downloaded !\n",
            "\n",
            "[%] Downloading Image #15 from https://static.wixstatic.com/media/367ea5_62f60b744a2a46ecba8924c8391d7d33~mv2.jpg/v1/fill/w_2560,h_1203,al_c,q_90/367ea5_62f60b744a2a46ecba8924c8391d7d33~mv2.jpg\n",
            "[%] File Downloaded !\n",
            "\n",
            "[%] Downloading Image #16 from https://upload.wikimedia.org/wikipedia/commons/thumb/4/4b/CMRR_Locomotive_29_Side_View.jpg/1280px-CMRR_Locomotive_29_Side_View.jpg\n",
            "[%] File Downloaded !\n",
            "\n",
            "[%] Downloading Image #17 from https://www.railpictures.net/images/d2/5/0/3/5503.1590899411.jpg\n",
            "[%] File Downloaded !\n",
            "\n",
            "[%] Downloading Image #18 from https://4.bp.blogspot.com/-jlSQNIWx6J0/VClh_MPI6TI/AAAAAAAAEKw/M9zvpZ7k0c8/s1600/IMG_5886.JPG\n",
            "[%] File Downloaded !\n",
            "\n",
            "[%] Downloading Image #19 from https://www.american-rails.com/images/x7303037566003622840405876.jpg.pagespeed.ic.U1XzIHrSiN.jpg\n",
            "[%] File Downloaded !\n",
            "\n",
            "[%] Downloading Image #20 from https://cdn.thinglink.me/api/image/622808184804868097/1024/10/scaletowidth/0/0/1/1/false/true?wait=true\n",
            "[%] File Downloaded !\n",
            "\n",
            "[%] Downloading Image #21 from https://i.pinimg.com/originals/16/88/ed/1688ed817e53d1e195141c649742b323.jpg\n",
            "[%] File Downloaded !\n",
            "\n",
            "[%] Downloading Image #22 from https://www.american-rails.com/images/712xNxATSFKnightsen.jpg.pagespeed.ic.odF0iStRqD.jpg\n",
            "[%] File Downloaded !\n",
            "\n",
            "[%] Downloading Image #23 from https://i.pinimg.com/originals/28/3e/a1/283ea1907e48cd56395accfdc48d8be5.jpg\n",
            "[%] File Downloaded !\n",
            "\n",
            "[%] Downloading Image #24 from https://www.trainworld.com/media/catalog/product/cache/86e6f7e11638df75a001bb5542adc41c/c/3/c30340dee8fd3dfdb51b19a6db039f44c6993fd921d5476ee3becc7c227f5829.jpeg\n",
            "[%] File Downloaded !\n",
            "\n",
            "[%] Downloading Image #25 from https://archive.org/download/cscrm_000032/cscrm_000032_access.jpg\n",
            "[%] File Downloaded !\n",
            "\n",
            "[%] Downloading Image #26 from https://i.pinimg.com/736x/f3/e3/be/f3e3be30d7144cc4e0cce6a4ec85d9af--steamers-steam-locomotive.jpg\n",
            "[%] File Downloaded !\n",
            "\n",
            "[%] Downloading Image #27 from https://i.ebayimg.com/images/g/TrkAAOSw4cZdHyU3/s-l640.jpg\n",
            "[%] File Downloaded !\n",
            "\n",
            "[%] Downloading Image #28 from https://i.pinimg.com/736x/78/38/01/783801ded3cd6ba860c381a1e8e20f50--trains.jpg\n",
            "[%] File Downloaded !\n",
            "\n",
            "[%] Downloading Image #29 from https://www.railpictures.net/images/d2/1/2/2/8122.1499130460.jpg\n",
            "[%] File Downloaded !\n",
            "\n",
            "[%] Downloading Image #30 from https://i.pinimg.com/originals/f9/56/52/f95652bb9dec63cef4068249bf2bf163.png\n",
            "[%] File Downloaded !\n",
            "\n",
            "\n",
            "\n",
            "[%] Done. Downloaded 30 images.\n",
            "===============================================\n",
            "\n",
            "Please show your support here\n",
            "https://www.buymeacoffee.com/gurugaurav\n",
            "\n",
            "===============================================\n",
            "\n",
            "time: 8.49 s (started: 2021-11-30 09:31:36 +00:00)\n"
          ]
        }
      ]
    },
    {
      "cell_type": "code",
      "metadata": {
        "colab": {
          "base_uri": "https://localhost:8080/"
        },
        "id": "ufbHBI3NPBmU",
        "outputId": "3ae57689-f7d5-4f3a-f30d-33d5044410a5"
      },
      "source": [
        "from bing_image_downloader import downloader\n",
        "downloader.download(\"green parrot\",limit=30,output_dir='images',adult_filter_off=True)"
      ],
      "execution_count": null,
      "outputs": [
        {
          "output_type": "stream",
          "name": "stdout",
          "text": [
            "[%] Downloading Images to /content/images/green parrot\n",
            "\n",
            "\n",
            "[!!]Indexing page: 1\n",
            "\n",
            "[%] Indexed 30 Images on Page 1.\n",
            "\n",
            "===============================================\n",
            "\n",
            "[%] Downloading Image #1 from https://www.thesprucepets.com/thmb/-O8a9D2twHwLSArUTue7S5JG0Qk=/4178x2785/filters:no_upscale():max_bytes(150000):strip_icc()/yellow-head-amazon-parrot-819397010-5abc268a43a103003697003d.jpg\n",
            "[%] File Downloaded !\n",
            "\n",
            "[%] Downloading Image #2 from https://pixfeeds.com/images/birds/parrots/1280-1200-528965850-profile-of-macaw-parrot.jpg\n",
            "[%] File Downloaded !\n",
            "\n",
            "[%] Downloading Image #3 from https://pixfeeds.com/images/birds/parrots/1280-1200-480443304-colorful-parrots.jpg\n",
            "[%] File Downloaded !\n",
            "\n",
            "[%] Downloading Image #4 from https://banner2.kisspng.com/20180213/jfe/kisspng-amazon-parrot-bird-true-parrot-computer-file-parrot-5a82dfd75a94c5.368510161518526423371.jpg\n",
            "[%] File Downloaded !\n",
            "\n",
            "[%] Downloading Image #5 from https://pixfeeds.com/images/birds/parrots/1280-1200-516798638-itching-red-parrot.jpg\n",
            "[%] File Downloaded !\n",
            "\n",
            "[%] Downloading Image #6 from https://pixfeeds.com/images/birds/parrots/1280-1200-516077066-green-parrot-and-macaw.jpg\n",
            "[%] File Downloaded !\n",
            "\n",
            "[%] Downloading Image #7 from https://animalia-life.com/data_images/parrot/parrot1.jpg\n",
            "[%] File Downloaded !\n",
            "\n",
            "[%] Downloading Image #8 from http://img.xcitefun.net/users/2014/07/360826,xcitefun-parrots-flying-6.jpg\n",
            "[%] File Downloaded !\n",
            "\n",
            "[%] Downloading Image #9 from https://i.pinimg.com/originals/03/8b/58/038b58c262d3e3731683291a722a9e4d.jpg\n",
            "[%] File Downloaded !\n",
            "\n",
            "[%] Downloading Image #10 from https://pixfeeds.com/images/birds/parrots/1280-1200-517517764-green-parrot-in-the-wild.jpg\n",
            "[%] File Downloaded !\n",
            "\n",
            "[%] Downloading Image #11 from https://pixfeeds.com/images/birds/parrots/1280-1200-139878103-little-parrots.jpg\n",
            "[%] File Downloaded !\n",
            "\n",
            "[%] Downloading Image #12 from https://pixfeeds.com/images/birds/parrots/1280-1200-157283872-perching-parrots.jpg\n",
            "[%] File Downloaded !\n",
            "\n",
            "[%] Downloading Image #13 from https://pixfeeds.com/images/birds/parrots/1280-1200-660506828-parrot-on-branch.jpg\n",
            "[%] File Downloaded !\n",
            "\n",
            "[%] Downloading Image #14 from https://i.pinimg.com/originals/81/eb/d4/81ebd416767b346a6de9e62bddb49cfe.jpg\n",
            "[%] File Downloaded !\n",
            "\n",
            "[%] Downloading Image #15 from https://pixfeeds.com/images/birds/parrots/1280-1200-516250626-two-cute-parrot.jpg\n",
            "[%] File Downloaded !\n",
            "\n",
            "[%] Downloading Image #16 from http://www.singing-wings-aviary.com/wp-content/uploads/2017/11/Parrot.jpg\n",
            "[%] File Downloaded !\n",
            "\n",
            "[%] Downloading Image #17 from https://pixfeeds.com/images/birds/parrots/1280-1200-485717506-red-neck-parrots.jpg\n",
            "[%] File Downloaded !\n",
            "\n",
            "[%] Downloading Image #18 from https://i.pinimg.com/originals/62/16/a8/6216a825140c730f58c4553abe7d7e00.jpg\n",
            "[%] File Downloaded !\n",
            "\n",
            "[%] Downloading Image #19 from https://thumbs.dreamstime.com/b/small-green-parrots-tree-wild-leaves-tropics-colorful-feathers-83327478.jpg\n",
            "[%] File Downloaded !\n",
            "\n",
            "[%] Downloading Image #20 from https://hutchandcage.com/wp-content/uploads/2020/10/Untitled-design-2-3.jpg\n",
            "[%] File Downloaded !\n",
            "\n",
            "[%] Downloading Image #21 from https://i.pinimg.com/originals/e1/57/44/e15744ad1a5bdd0b340cbd044c569b76.jpg\n",
            "[%] File Downloaded !\n",
            "\n",
            "[%] Downloading Image #22 from https://www.trbimg.com/img-5c6dec1a/turbine/sd-cm-plob-peninsula-parrots-20190220\n",
            "[%] File Downloaded !\n",
            "\n",
            "[%] Downloading Image #23 from https://pixfeeds.com/images/birds/parrots/1280-1200-516953202-green-and-yellow-parrot.jpg\n",
            "[%] File Downloaded !\n",
            "\n",
            "[%] Downloading Image #24 from https://pixfeeds.com/images/birds/parrots/1280-1200-92161797-red-parrots.jpg\n",
            "[%] File Downloaded !\n",
            "\n",
            "[%] Downloading Image #25 from https://pixfeeds.com/images/birds/parrots/1280-1200-532850558-parrot-in-cage.jpg\n",
            "[%] File Downloaded !\n",
            "\n",
            "[%] Downloading Image #26 from https://i.pinimg.com/originals/34/12/71/341271c6ad4c6e76e40ddbb42b58a37c.jpg\n",
            "[%] File Downloaded !\n",
            "\n",
            "[%] Downloading Image #27 from https://fthmb.tqn.com/wzuU6VJkQarMXWzqmLmE5Mw5lNo=/3008x2000/filters:fill(auto,1)/GettyImages-629079699-58a6e9755f9b58a3c9190066.jpg\n",
            "[%] File Downloaded !\n",
            "\n",
            "[%] Downloading Image #28 from https://pixfeeds.com/images/birds/parrots/1280-1200-523049526-colorful-parrot.jpg\n",
            "[%] File Downloaded !\n",
            "\n",
            "[%] Downloading Image #29 from http://upload.wikimedia.org/wikipedia/commons/9/92/Fruit_time_for_parrots_in_Green_World_Ecological_Farm.jpg\n",
            "[%] File Downloaded !\n",
            "\n",
            "[%] Downloading Image #30 from http://www.wallpapers13.com/wp-content/uploads/2016/02/Wallpaper-HD-Parrot-couple-branch-with-orange-flowers.jpg\n",
            "[%] File Downloaded !\n",
            "\n",
            "\n",
            "\n",
            "[%] Done. Downloaded 30 images.\n",
            "===============================================\n",
            "\n",
            "Please show your support here\n",
            "https://www.buymeacoffee.com/gurugaurav\n",
            "\n",
            "===============================================\n",
            "\n",
            "time: 10.8 s (started: 2021-11-30 09:31:55 +00:00)\n"
          ]
        }
      ]
    },
    {
      "cell_type": "code",
      "metadata": {
        "id": "neUC-VwjPHt8",
        "colab": {
          "base_uri": "https://localhost:8080/"
        },
        "outputId": "eddc1aaf-6ec5-4fc0-db0a-6b6665a557ad"
      },
      "source": [
        "from bing_image_downloader import downloader\n",
        "downloader.download(\"motorcycle\",limit=30,output_dir='images',adult_filter_off=True)"
      ],
      "execution_count": null,
      "outputs": [
        {
          "output_type": "stream",
          "name": "stdout",
          "text": [
            "[%] Downloading Images to /content/images/motorcycle\n",
            "\n",
            "\n",
            "[!!]Indexing page: 1\n",
            "\n",
            "[%] Indexed 30 Images on Page 1.\n",
            "\n",
            "===============================================\n",
            "\n",
            "[%] Downloading Image #1 from http://www.geeks4thewin.com/wp-content/uploads/2013/08/2014_Indian_Chief_Classis.jpg\n",
            "[%] File Downloaded !\n",
            "\n",
            "[%] Downloading Image #2 from https://www.indianmotorcycles.net/attachments/img_3082-jpg.303017/\n",
            "[%] File Downloaded !\n",
            "\n",
            "[%] Downloading Image #3 from https://www.venturi.com/wp-content/uploads/2020/11/VOXAN_4424.jpg\n",
            "[%] File Downloaded !\n",
            "\n",
            "[%] Downloading Image #4 from https://uploads.tapatalk-cdn.com/20201031/7978c3d16127bebd58d7ff5bf808012a.jpg\n",
            "[%] File Downloaded !\n",
            "\n",
            "[%] Downloading Image #5 from https://cimg2.ibsrv.net/cimg/www.hdforums.com/2000x2000_85-1/610/Harley-Rider-01-140610.jpg\n",
            "[%] File Downloaded !\n",
            "\n",
            "[%] Downloading Image #6 from https://www.indianmotorcycles.net/attachments/20170512_122621-jpg.412852/\n",
            "[%] File Downloaded !\n",
            "\n",
            "[%] Downloading Image #7 from https://i.pinimg.com/originals/6c/19/59/6c1959695987a21666a31184249c6616.png\n",
            "[%] File Downloaded !\n",
            "\n",
            "[%] Downloading Image #8 from https://cdn-0.totalmotorcycle.com/wp-content/uploads/2019/09/2020-Suzuki-GSX-R750d.jpg\n",
            "[%] File Downloaded !\n",
            "\n",
            "[%] Downloading Image #9 from https://motorcyclemelee.com/wp-content/uploads/2015/02/honda-streetfighter-motorcycle.jpg\n",
            "[%] File Downloaded !\n",
            "\n",
            "[%] Downloading Image #10 from http://pm1.narvii.com/7447/ddae9b351979f039449558ed0537deaf361debb1r1-720-717v2_uhq.jpg\n",
            "[%] File Downloaded !\n",
            "\n",
            "[%] Downloading Image #11 from https://www.indianmotorcycles.net/attachments/image-jpeg.45102/\n",
            "[%] File Downloaded !\n",
            "\n",
            "[%] Downloading Image #12 from https://hsr-autos.co.uk/wp-content/uploads/2020/06/Motorcycle.jpg\n",
            "[%] File Downloaded !\n",
            "\n",
            "[%] Downloading Image #13 from https://yt3.ggpht.com/a/AATXAJy3C2ddP87YyFUQw9BJMNFRehHiuBQd_1jgmux-RQ=s900-c-k-c0xffffffff-no-rj-mo\n",
            "[%] File Downloaded !\n",
            "\n",
            "[%] Downloading Image #14 from https://i.pinimg.com/originals/00/6b/8c/006b8c48b868d930eedf3cb04f2fed59.jpg\n",
            "[%] File Downloaded !\n",
            "\n",
            "[%] Downloading Image #15 from https://www.indianmotorcycles.net/attachments/img_5495-jpg.224409/\n",
            "[%] File Downloaded !\n",
            "\n",
            "[%] Downloading Image #16 from https://www.thevog.net/attachments/20160326_125707-jpg.48881/\n",
            "[%] File Downloaded !\n",
            "\n",
            "[%] Downloading Image #17 from https://image.made-in-china.com/2f0j00hCsYmyqcllbT/Electric-racing-motorcycle-True-Sine-Wave-control-72V-3KW-5KW-10KW-120kmh-100KM-range-98kg-brushless-and-gear-less.jpg\n",
            "[%] File Downloaded !\n",
            "\n",
            "[%] Downloading Image #18 from https://biker.report/wp-content/uploads/2019/01/motorcycle-etiquette.jpeg\n",
            "[%] File Downloaded !\n",
            "\n",
            "[%] Downloading Image #19 from https://i.pinimg.com/originals/f4/4d/3c/f44d3cab331113a20ebec8dbb0f73aa1.jpg\n",
            "[%] File Downloaded !\n",
            "\n",
            "[%] Downloading Image #20 from https://i.pinimg.com/originals/4c/f1/cf/4cf1cfdd9cbed15d6c7b0f70796671e6.jpg\n",
            "[%] File Downloaded !\n",
            "\n",
            "[%] Downloading Image #21 from https://static.advrider.com/wp-content/uploads/2019/06/Arc-vector-electric-motorcycle-first-look-3.jpg\n",
            "[%] File Downloaded !\n",
            "\n",
            "[%] Downloading Image #22 from https://www.webbikeworld.com/wp-content/uploads/2019/01/Ducati-Red-02.2.jpg\n",
            "[%] File Downloaded !\n",
            "\n",
            "[%] Downloading Image #23 from https://cdn.inceptivemind.com/wp-content/uploads/2020/01/Lazareth-LMV-496-2.jpg\n",
            "[%] File Downloaded !\n",
            "\n",
            "[%] Downloading Image #24 from http://www.roadrunner.travel/wp/wp-content/uploads/Velo1-772x603.jpg\n",
            "[%] File Downloaded !\n",
            "\n",
            "[%] Downloading Image #25 from https://i.pinimg.com/originals/08/c9/6c/08c96c3514279f4635453d05376b39a0.jpg\n",
            "[%] File Downloaded !\n",
            "\n",
            "[%] Downloading Image #26 from https://i.ebayimg.com/images/i/391372155029-0-1/s-l1000.jpg\n",
            "[%] File Downloaded !\n",
            "\n",
            "[%] Downloading Image #27 from https://s1.cdn.autoevolution.com/images/news/gallery/the-story-of-two-kids-and-their-indian-motorcycle_1.jpeg\n",
            "[%] File Downloaded !\n",
            "\n",
            "[%] Downloading Image #28 from https://i.pinimg.com/originals/62/c3/9c/62c39cf5b422d691b94e2c426ae9f218.jpg\n",
            "[%] File Downloaded !\n",
            "\n",
            "[%] Downloading Image #29 from https://i.pinimg.com/originals/35/f0/06/35f0065953753741d3ff40c177031e56.jpg\n",
            "[%] File Downloaded !\n",
            "\n",
            "[%] Downloading Image #30 from https://indianonlymotorcycles.com/wp-content/uploads/true-dual.jpg\n",
            "[%] File Downloaded !\n",
            "\n",
            "\n",
            "\n",
            "[%] Done. Downloaded 30 images.\n",
            "===============================================\n",
            "\n",
            "Please show your support here\n",
            "https://www.buymeacoffee.com/gurugaurav\n",
            "\n",
            "===============================================\n",
            "\n",
            "time: 12 s (started: 2021-11-30 09:32:39 +00:00)\n"
          ]
        }
      ]
    },
    {
      "cell_type": "code",
      "metadata": {
        "id": "PghphfLOPN8N",
        "colab": {
          "base_uri": "https://localhost:8080/"
        },
        "outputId": "584a77f3-da34-43a0-b1d2-ccf802a6284e"
      },
      "source": [
        "from bing_image_downloader import downloader\n",
        "downloader.download(\"tiger\",limit=30,output_dir='images',adult_filter_off=True)"
      ],
      "execution_count": null,
      "outputs": [
        {
          "output_type": "stream",
          "name": "stdout",
          "text": [
            "[%] Downloading Images to /content/images/tiger\n",
            "\n",
            "\n",
            "[!!]Indexing page: 1\n",
            "\n",
            "[%] Indexed 30 Images on Page 1.\n",
            "\n",
            "===============================================\n",
            "\n",
            "[%] Downloading Image #1 from https://3.bp.blogspot.com/-mcgotL3ybfA/Tmnibi1hO4I/AAAAAAAABlo/_LLkUuuitbE/s1600/Bengal_Tiger_Miami_MetroZoo.jpg\n",
            "[%] File Downloaded !\n",
            "\n",
            "[%] Downloading Image #2 from https://i.ytimg.com/vi/OQWHFmgH4pI/maxresdefault.jpg\n",
            "[%] File Downloaded !\n",
            "\n",
            "[%] Downloading Image #3 from https://3.bp.blogspot.com/_W90V87w3sr8/TMbyiUdtilI/AAAAAAAAAEI/baQO1CTsACc/s1600/bengal1.jpg\n",
            "[%] File Downloaded !\n",
            "\n",
            "[%] Downloading Image #4 from https://cdn.thinglink.me/api/image/517862791588085761/1024/10/scaletowidth/0/0/1/1/false/true?wait=true\n",
            "[%] File Downloaded !\n",
            "\n",
            "[%] Downloading Image #5 from https://i1.wp.com/therockwalltimes.com/wp-content/uploads/2020/04/nick-karvounis-KNNQqX9rqY-unsplash-scaled.jpg?fit=2560%2C1707\n",
            "[%] File Downloaded !\n",
            "\n",
            "[%] Downloading Image #6 from http://www.letstravelmag.com/wp-content/uploads/2016/07/tiger.jpg\n",
            "[%] File Downloaded !\n",
            "\n",
            "[%] Downloading Image #7 from http://1.bp.blogspot.com/-boamuUVHHkw/Tmnia1bGzDI/AAAAAAAABlI/QRvzgW4jS6U/s1600/bengal_tigerk.jpg\n",
            "[%] File Downloaded !\n",
            "\n",
            "[%] Downloading Image #8 from https://media.npr.org/assets/news/2010/09/10/Tiger-4e63dcd32bdf399816d6102bb1b490e5949b6edb-s1100.jpg\n",
            "[%] File Downloaded !\n",
            "\n",
            "[%] Downloading Image #9 from http://www.frontpagelive.com/wp-content/uploads/2020/04/tiger-kings-carole-baskin-denies-murdering-first-husband-1024x536.jpg\n",
            "[%] File Downloaded !\n",
            "\n",
            "[%] Downloading Image #10 from http://s24990.pcdn.co/wp-content/uploads/2016/04/WWF.jpg\n",
            "[%] File Downloaded !\n",
            "\n",
            "[%] Downloading Image #11 from http://s24990.pcdn.co/wp-content/uploads/2017/03/siberian-tiger-1209680_960_720.jpg\n",
            "[%] File Downloaded !\n",
            "\n",
            "[%] Downloading Image #12 from http://bigcatrescue.org/wp-content/uploads/2020/05/lion-white-tiger-true-love-scaled.jpg\n",
            "[%] File Downloaded !\n",
            "\n",
            "[%] Downloading Image #13 from http://2.bp.blogspot.com/_1KL1pyq6D-w/TAeVsfLH-YI/AAAAAAAACzc/WbidOzG196I/s1600/33-WEBSITE-125.jpg\n",
            "[%] File Downloaded !\n",
            "\n",
            "[%] Downloading Image #14 from https://2.bp.blogspot.com/-qEvaoUwrPWA/UDC-OX-F6EI/AAAAAAAABvo/WHOFWKMadeI/s1600/South-China-Tiger-1.jpg\n",
            "[%] File Downloaded !\n",
            "\n",
            "[%] Downloading Image #15 from https://img.particlenews.com/img/id/3wfy1C_0WwzMjMz00?type=thumbnail_1024x576\n",
            "[%] File Downloaded !\n",
            "\n",
            "[%] Downloading Image #16 from https://i.pinimg.com/736x/f5/22/89/f52289035eec72f043fddf3fb59b54a2.jpg\n",
            "[%] File Downloaded !\n",
            "\n",
            "[%] Downloading Image #17 from https://i.ytimg.com/vi/24lHKrK0cCI/maxresdefault.jpg\n",
            "[%] File Downloaded !\n",
            "\n",
            "[%] Downloading Image #18 from https://4.bp.blogspot.com/-YJRhFbIlVuQ/Tmnia4llcpI/AAAAAAAABlQ/wixeA_GvELw/s1600/bengalTIGER_WALK.jpg\n",
            "[%] File Downloaded !\n",
            "\n",
            "[%] Downloading Image #19 from https://live.staticflickr.com/65535/49161028993_d25abe8ba5_b.jpg\n",
            "[%] File Downloaded !\n",
            "\n",
            "[%] Downloading Image #20 from https://s-media-cache-ak0.pinimg.com/736x/86/bb/e6/86bbe67dde52b6ad4d2df264b533d030.jpg\n",
            "[%] File Downloaded !\n",
            "\n",
            "[%] Downloading Image #21 from http://4.bp.blogspot.com/-swTSy3-PsUI/UDC-RGbxzkI/AAAAAAAABv4/fiGjk7BC0RQ/s1600/South-China-Tiger-3.jpg\n",
            "[%] File Downloaded !\n",
            "\n",
            "[%] Downloading Image #22 from https://qph.fs.quoracdn.net/main-qimg-3b417ee67824fc9554ec1df203484636\n",
            "[%] File Downloaded !\n",
            "\n",
            "[%] Downloading Image #23 from http://1.bp.blogspot.com/-6ke3HyEZj_Y/Tf7Pf-87AFI/AAAAAAAAAMY/fWJaPHbTQ9o/s400/Sumatran+Tiger+Facts3.jpg\n",
            "[%] File Downloaded !\n",
            "\n",
            "[%] Downloading Image #24 from https://www.earthtouchnews.com/media/838233/screen-shot-2015-01-21-at-32120-pm.png\n",
            "[%] File Downloaded !\n",
            "\n",
            "[%] Downloading Image #25 from https://i.ytimg.com/vi/i-dpCW07-9c/hqdefault.jpg\n",
            "[%] File Downloaded !\n",
            "\n",
            "[%] Downloading Image #26 from https://i.pinimg.com/originals/6a/27/c3/6a27c3e3b0dcabf299053483c7d007d9.jpg\n",
            "[%] File Downloaded !\n",
            "\n",
            "[%] Downloading Image #27 from https://tsncdn.truescoopnews.com/images/full/newsinner_20200606142551_1.jpg\n",
            "[%] File Downloaded !\n",
            "\n",
            "[%] Downloading Image #28 from http://4.bp.blogspot.com/-OoJvEYlI3gQ/TifC73k_XsI/AAAAAAAABbw/DuW0k0toNnc/s400/ranthamboretiger-l.jpg\n",
            "[%] File Downloaded !\n",
            "\n",
            "[%] Downloading Image #29 from https://i2.wp.com/www.tropicalbass.com/wp-content/uploads/2012/09/True-Tiger.jpeg\n",
            "[%] File Downloaded !\n",
            "\n",
            "[%] Downloading Image #30 from https://www.funny-games.biz/images/pictures/1829-friendly-tiger.jpg\n",
            "[%] File Downloaded !\n",
            "\n",
            "\n",
            "\n",
            "[%] Done. Downloaded 30 images.\n",
            "===============================================\n",
            "\n",
            "Please show your support here\n",
            "https://www.buymeacoffee.com/gurugaurav\n",
            "\n",
            "===============================================\n",
            "\n",
            "time: 14.1 s (started: 2021-11-30 09:32:57 +00:00)\n"
          ]
        }
      ]
    },
    {
      "cell_type": "code",
      "metadata": {
        "id": "aqVrrWxoPTYh",
        "colab": {
          "base_uri": "https://localhost:8080/"
        },
        "outputId": "aaca596e-bd85-4872-a4ab-04f0cbe2da3f"
      },
      "source": [
        "import numpy as np\n",
        "a = np.array([[1,2,3,4,5],\n",
        "             [4,5,6,7,8]])\n",
        "a.ndim"
      ],
      "execution_count": null,
      "outputs": [
        {
          "output_type": "execute_result",
          "data": {
            "text/plain": [
              "2"
            ]
          },
          "metadata": {},
          "execution_count": 9
        },
        {
          "output_type": "stream",
          "name": "stdout",
          "text": [
            "time: 5.64 ms (started: 2021-11-30 09:33:14 +00:00)\n"
          ]
        }
      ]
    },
    {
      "cell_type": "code",
      "metadata": {
        "id": "ecKw4ft2PaVj",
        "colab": {
          "base_uri": "https://localhost:8080/"
        },
        "outputId": "0432c83b-8ca3-4c6d-8d56-bae2b1ffabc8"
      },
      "source": [
        "a.flatten()"
      ],
      "execution_count": null,
      "outputs": [
        {
          "output_type": "execute_result",
          "data": {
            "text/plain": [
              "array([1, 2, 3, 4, 5, 4, 5, 6, 7, 8])"
            ]
          },
          "metadata": {},
          "execution_count": 10
        },
        {
          "output_type": "stream",
          "name": "stdout",
          "text": [
            "time: 11.1 ms (started: 2021-11-30 09:33:18 +00:00)\n"
          ]
        }
      ]
    },
    {
      "cell_type": "code",
      "metadata": {
        "colab": {
          "base_uri": "https://localhost:8080/"
        },
        "id": "RmUWz5hbPeXL",
        "outputId": "0d2ef666-599b-4946-b40f-d5a132887a9a"
      },
      "source": [
        "#Preprocessing\n",
        "#1. Resize\n",
        "#2. Flattening\n",
        "import os\n",
        "import matplotlib.pyplot as plt\n",
        "import numpy as np\n",
        "from skimage.io import imread\n",
        "from skimage.transform import resize\n",
        "\n",
        "target = []\n",
        "images = []\n",
        "flat_data = []\n",
        "DATADIR = '/content/images'\n",
        "CATEGORIES = ['motorcycle','green grapes','green parrot','locomotive','tiger']\n",
        "for category in CATEGORIES:\n",
        "  class_num = CATEGORIES.index(category)  #Label Encoding the Values\n",
        "  path = os.path.join(DATADIR,category)   #Create path to use all the images\n",
        "  for img in os.listdir(path):\n",
        "    img_array = imread(os.path.join(path,img))\n",
        "    #print(img_array.shape)\n",
        "    #plt.imshow(img_array)\n",
        "    img_resized = resize(img_array,(150,150,3)) #Normalizes the value from 0 to 1\n",
        "    flat_data.append(img_resized.flatten())\n",
        "    images.append(img_resized)\n",
        "    target.append(class_num)\n",
        "\n",
        "flat_data = np.array(flat_data)\n",
        "target = np.array(target)\n",
        "images = np.array(images)"
      ],
      "execution_count": null,
      "outputs": [
        {
          "output_type": "stream",
          "name": "stdout",
          "text": [
            "time: 1min 38s (started: 2021-11-30 09:33:20 +00:00)\n"
          ]
        }
      ]
    },
    {
      "cell_type": "code",
      "metadata": {
        "colab": {
          "base_uri": "https://localhost:8080/",
          "height": 302
        },
        "id": "j72PXBd9Pscv",
        "outputId": "b58fedc1-7833-4f7e-b01c-620770672ebe"
      },
      "source": [
        "unique,count = np.unique(target,return_counts=True)\n",
        "plt.bar(CATEGORIES,count)"
      ],
      "execution_count": null,
      "outputs": [
        {
          "output_type": "execute_result",
          "data": {
            "text/plain": [
              "<BarContainer object of 5 artists>"
            ]
          },
          "metadata": {},
          "execution_count": 12
        },
        {
          "output_type": "display_data",
          "data": {
            "image/png": "[encoded data removed]",
            "text/plain": [
              "<Figure size 432x288 with 1 Axes>"
            ]
          },
          "metadata": {
            "needs_background": "light"
          }
        },
        {
          "output_type": "stream",
          "name": "stdout",
          "text": [
            "time: 168 ms (started: 2021-11-30 09:35:03 +00:00)\n"
          ]
        }
      ]
    },
    {
      "cell_type": "code",
      "metadata": {
        "colab": {
          "base_uri": "https://localhost:8080/"
        },
        "id": "g1d1E6nYPxBq",
        "outputId": "15c92a65-897e-4fcd-aa45-a47c23a0b71e"
      },
      "source": [
        "#Split data into Training and test\n",
        "from sklearn.model_selection import train_test_split\n",
        "x_train,x_test,y_train,y_test = train_test_split(flat_data,target,test_size=0.3,random_state=100)"
      ],
      "execution_count": null,
      "outputs": [
        {
          "output_type": "stream",
          "name": "stdout",
          "text": [
            "time: 228 ms (started: 2021-11-30 09:35:06 +00:00)\n"
          ]
        }
      ]
    },
    {
      "cell_type": "code",
      "metadata": {
        "id": "LD2domOTP005",
        "colab": {
          "base_uri": "https://localhost:8080/"
        },
        "outputId": "bd965f2e-ca53-4a79-866a-5af13660df68"
      },
      "source": [
        "from sklearn.model_selection import GridSearchCV\n",
        "from sklearn import svm\n",
        "param_grid = [\n",
        "              {'C':[1,10,100,1000],'kernel':['linear']},\n",
        "              {'C':[1,10,100,1000],'gamma':[0.001,0.0001],'kernel':['rbf']},\n",
        "]\n",
        "svc = svm.SVC(probability=True)\n",
        "clf = GridSearchCV(svc,param_grid)\n",
        "clf.fit(x_train,y_train)"
      ],
      "execution_count": null,
      "outputs": [
        {
          "output_type": "execute_result",
          "data": {
            "text/plain": [
              "GridSearchCV(estimator=SVC(probability=True),\n",
              "             param_grid=[{'C': [1, 10, 100, 1000], 'kernel': ['linear']},\n",
              "                         {'C': [1, 10, 100, 1000], 'gamma': [0.001, 0.0001],\n",
              "                          'kernel': ['rbf']}])"
            ]
          },
          "metadata": {},
          "execution_count": 14
        },
        {
          "output_type": "stream",
          "name": "stdout",
          "text": [
            "time: 2min 53s (started: 2021-11-30 09:35:09 +00:00)\n"
          ]
        }
      ]
    },
    {
      "cell_type": "code",
      "metadata": {
        "id": "J3VifQZOSVVC",
        "colab": {
          "base_uri": "https://localhost:8080/"
        },
        "outputId": "9486e342-9424-4c50-bca1-40dd5c799b7a"
      },
      "source": [
        "y_pred = clf.predict(x_test)\n",
        "y_pred"
      ],
      "execution_count": null,
      "outputs": [
        {
          "output_type": "execute_result",
          "data": {
            "text/plain": [
              "array([4, 0, 3, 0, 4, 4, 1, 2, 2, 1, 2, 3, 2, 0, 0, 3, 4, 0, 2, 3, 4, 1,\n",
              "       4, 2, 2, 2, 4, 3, 1, 1, 4, 3, 3, 0, 2, 4, 4, 4, 2, 3, 1, 3, 3, 3,\n",
              "       2])"
            ]
          },
          "metadata": {},
          "execution_count": 15
        },
        {
          "output_type": "stream",
          "name": "stdout",
          "text": [
            "time: 767 ms (started: 2021-11-30 09:38:11 +00:00)\n"
          ]
        }
      ]
    },
    {
      "cell_type": "code",
      "metadata": {
        "id": "UawTsdF2Scti",
        "colab": {
          "base_uri": "https://localhost:8080/"
        },
        "outputId": "8f702a54-1c7d-4d5c-c205-8347259d4069"
      },
      "source": [
        "y_test"
      ],
      "execution_count": null,
      "outputs": [
        {
          "output_type": "execute_result",
          "data": {
            "text/plain": [
              "array([4, 0, 3, 0, 4, 4, 1, 0, 3, 1, 1, 3, 0, 0, 4, 3, 2, 2, 4, 3, 4, 1,\n",
              "       4, 0, 2, 4, 2, 0, 2, 4, 2, 3, 3, 0, 0, 1, 1, 2, 4, 3, 1, 3, 3, 3,\n",
              "       1])"
            ]
          },
          "metadata": {},
          "execution_count": 16
        },
        {
          "output_type": "stream",
          "name": "stdout",
          "text": [
            "time: 10.5 ms (started: 2021-11-30 09:38:15 +00:00)\n"
          ]
        }
      ]
    },
    {
      "cell_type": "code",
      "metadata": {
        "id": "905tHTxLSg2T",
        "colab": {
          "base_uri": "https://localhost:8080/"
        },
        "outputId": "3fc64857-2e25-46ca-be77-ee305c9951a2"
      },
      "source": [
        "from sklearn.metrics import accuracy_score,confusion_matrix"
      ],
      "execution_count": null,
      "outputs": [
        {
          "output_type": "stream",
          "name": "stdout",
          "text": [
            "time: 1.09 ms (started: 2021-11-30 09:38:18 +00:00)\n"
          ]
        }
      ]
    },
    {
      "cell_type": "code",
      "metadata": {
        "id": "l94HIwGmSios",
        "colab": {
          "base_uri": "https://localhost:8080/"
        },
        "outputId": "69f49712-2070-43dc-9517-dd0f10624499"
      },
      "source": [
        "confusion_matrix(y_pred,y_test)"
      ],
      "execution_count": null,
      "outputs": [
        {
          "output_type": "execute_result",
          "data": {
            "text/plain": [
              "array([[ 4,  0,  1,  0,  1],\n",
              "       [ 0,  4,  1,  0,  1],\n",
              "       [ 4,  2,  1,  1,  3],\n",
              "       [ 1,  0,  0, 10,  0],\n",
              "       [ 0,  2,  4,  0,  5]])"
            ]
          },
          "metadata": {},
          "execution_count": 18
        },
        {
          "output_type": "stream",
          "name": "stdout",
          "text": [
            "time: 8.36 ms (started: 2021-11-30 09:38:21 +00:00)\n"
          ]
        }
      ]
    },
    {
      "cell_type": "code",
      "metadata": {
        "id": "lk_2PCgBSlRH",
        "colab": {
          "base_uri": "https://localhost:8080/"
        },
        "outputId": "e4d385ae-2155-41e8-b32e-9cd15582a182"
      },
      "source": [
        "#Save the model using Pickle library\n",
        "import pickle\n",
        "pickle.dump(clf,open('img_model.p','wb'))"
      ],
      "execution_count": null,
      "outputs": [
        {
          "output_type": "stream",
          "name": "stdout",
          "text": [
            "time: 68.5 ms (started: 2021-11-30 09:38:23 +00:00)\n"
          ]
        }
      ]
    },
    {
      "cell_type": "code",
      "metadata": {
        "id": "LyJ-IKE4Sr_z",
        "colab": {
          "base_uri": "https://localhost:8080/"
        },
        "outputId": "cced265d-565e-4b67-f09b-2f928b7d2bdb"
      },
      "source": [
        "model = pickle.load(open('img_model.p','rb'))"
      ],
      "execution_count": null,
      "outputs": [
        {
          "output_type": "stream",
          "name": "stdout",
          "text": [
            "time: 33.9 ms (started: 2021-11-30 09:38:30 +00:00)\n"
          ]
        }
      ]
    },
    {
      "cell_type": "code",
      "metadata": {
        "id": "h6Be9Cs3SvyD"
      },
      "source": [
        "# Testing a brand new image\n",
        "flat_data = []\n",
        "url = input('Enter your url')\n",
        "img = imread(url)\n",
        "img_resized = resize(img,(150,150,3))\n",
        "flat_data.append(img_resized.flatten())\n",
        "flat_data = np.array(flat_data)\n",
        "print(img.shape)\n",
        "plt.imshow(img_resized)\n",
        "y_out = model.predict(flat_data)\n",
        "y_out = CATEGORIES[y_out[0]]\n",
        "print(f'PREDICTED OUTPUT: {y_out}')"
      ],
      "execution_count": null,
      "outputs": []
    },
    {
      "cell_type": "code",
      "metadata": {
        "id": "jMHzQW5GTjJi",
        "colab": {
          "base_uri": "https://localhost:8080/"
        },
        "outputId": "b7932117-2933-49ea-b2af-c435e0ee93ec"
      },
      "source": [
        "!ls"
      ],
      "execution_count": null,
      "outputs": [
        {
          "output_type": "stream",
          "name": "stdout",
          "text": [
            "images\timg_model.p  sample_data\n",
            "time: 130 ms (started: 2021-11-30 09:40:15 +00:00)\n"
          ]
        }
      ]
    },
    {
      "cell_type": "code",
      "metadata": {
        "id": "-qv8R75nTt8j",
        "colab": {
          "base_uri": "https://localhost:8080/",
          "height": 1000
        },
        "outputId": "0d5746c1-1bdc-4aff-e46d-114830c70aff"
      },
      "source": [
        "!pip install streamlit"
      ],
      "execution_count": null,
      "outputs": [
        {
          "output_type": "stream",
          "name": "stdout",
          "text": [
            "Collecting streamlit\n",
            "  Downloading streamlit-1.2.0-py2.py3-none-any.whl (9.1 MB)\n",
            "\u001b[K     |████████████████████████████████| 9.1 MB 5.3 MB/s \n",
            "\u001b[?25hRequirement already satisfied: protobuf!=3.11,>=3.6.0 in /usr/local/lib/python3.7/dist-packages (from streamlit) (3.17.3)\n",
            "Requirement already satisfied: requests in /usr/local/lib/python3.7/dist-packages (from streamlit) (2.23.0)\n",
            "Requirement already satisfied: pandas>=0.21.0 in /usr/local/lib/python3.7/dist-packages (from streamlit) (1.1.5)\n",
            "Requirement already satisfied: toml in /usr/local/lib/python3.7/dist-packages (from streamlit) (0.10.2)\n",
            "Requirement already satisfied: astor in /usr/local/lib/python3.7/dist-packages (from streamlit) (0.8.1)\n",
            "Requirement already satisfied: tzlocal in /usr/local/lib/python3.7/dist-packages (from streamlit) (1.5.1)\n",
            "Requirement already satisfied: tornado>=5.0 in /usr/local/lib/python3.7/dist-packages (from streamlit) (5.1.1)\n",
            "Collecting blinker\n",
            "  Downloading blinker-1.4.tar.gz (111 kB)\n",
            "\u001b[K     |████████████████████████████████| 111 kB 63.8 MB/s \n",
            "\u001b[?25hCollecting watchdog\n",
            "  Downloading watchdog-2.1.6-py3-none-manylinux2014_x86_64.whl (76 kB)\n",
            "\u001b[K     |████████████████████████████████| 76 kB 3.8 MB/s \n",
            "\u001b[?25hRequirement already satisfied: altair>=3.2.0 in /usr/local/lib/python3.7/dist-packages (from streamlit) (4.1.0)\n",
            "Requirement already satisfied: pyarrow in /usr/local/lib/python3.7/dist-packages (from streamlit) (3.0.0)\n",
            "Requirement already satisfied: pillow>=6.2.0 in /usr/local/lib/python3.7/dist-packages (from streamlit) (7.1.2)\n",
            "Collecting gitpython!=3.1.19\n",
            "  Downloading GitPython-3.1.24-py3-none-any.whl (180 kB)\n",
            "\u001b[K     |████████████████████████████████| 180 kB 77.9 MB/s \n",
            "\u001b[?25hRequirement already satisfied: click<8.0,>=7.0 in /usr/local/lib/python3.7/dist-packages (from streamlit) (7.1.2)\n",
            "Collecting pympler>=0.9\n",
            "  Downloading Pympler-0.9.tar.gz (178 kB)\n",
            "\u001b[K     |████████████████████████████████| 178 kB 73.3 MB/s \n",
            "\u001b[?25hRequirement already satisfied: numpy in /usr/local/lib/python3.7/dist-packages (from streamlit) (1.19.5)\n",
            "Requirement already satisfied: cachetools>=4.0 in /usr/local/lib/python3.7/dist-packages (from streamlit) (4.2.4)\n",
            "Collecting base58\n",
            "  Downloading base58-2.1.1-py3-none-any.whl (5.6 kB)\n",
            "Requirement already satisfied: attrs in /usr/local/lib/python3.7/dist-packages (from streamlit) (21.2.0)\n",
            "Requirement already satisfied: python-dateutil in /usr/local/lib/python3.7/dist-packages (from streamlit) (2.8.2)\n",
            "Requirement already satisfied: packaging in /usr/local/lib/python3.7/dist-packages (from streamlit) (21.3)\n",
            "Collecting validators\n",
            "  Downloading validators-0.18.2-py3-none-any.whl (19 kB)\n",
            "Collecting pydeck>=0.1.dev5\n",
            "  Downloading pydeck-0.7.1-py2.py3-none-any.whl (4.3 MB)\n",
            "\u001b[K     |████████████████████████████████| 4.3 MB 70.9 MB/s \n",
            "\u001b[?25hRequirement already satisfied: jinja2 in /usr/local/lib/python3.7/dist-packages (from altair>=3.2.0->streamlit) (2.11.3)\n",
            "Requirement already satisfied: toolz in /usr/local/lib/python3.7/dist-packages (from altair>=3.2.0->streamlit) (0.11.2)\n",
            "Requirement already satisfied: jsonschema in /usr/local/lib/python3.7/dist-packages (from altair>=3.2.0->streamlit) (2.6.0)\n",
            "Requirement already satisfied: entrypoints in /usr/local/lib/python3.7/dist-packages (from altair>=3.2.0->streamlit) (0.3)\n",
            "Requirement already satisfied: typing-extensions>=3.7.4.3 in /usr/local/lib/python3.7/dist-packages (from gitpython!=3.1.19->streamlit) (3.10.0.2)\n",
            "Collecting gitdb<5,>=4.0.1\n",
            "  Downloading gitdb-4.0.9-py3-none-any.whl (63 kB)\n",
            "\u001b[K     |████████████████████████████████| 63 kB 1.7 MB/s \n",
            "\u001b[?25hCollecting smmap<6,>=3.0.1\n",
            "  Downloading smmap-5.0.0-py3-none-any.whl (24 kB)\n",
            "Requirement already satisfied: pytz>=2017.2 in /usr/local/lib/python3.7/dist-packages (from pandas>=0.21.0->streamlit) (2018.9)\n",
            "Requirement already satisfied: six>=1.9 in /usr/local/lib/python3.7/dist-packages (from protobuf!=3.11,>=3.6.0->streamlit) (1.15.0)\n",
            "Collecting ipykernel>=5.1.2\n",
            "  Downloading ipykernel-6.5.1-py3-none-any.whl (125 kB)\n",
            "\u001b[K     |████████████████████████████████| 125 kB 76.3 MB/s \n",
            "\u001b[?25hRequirement already satisfied: traitlets>=4.3.2 in /usr/local/lib/python3.7/dist-packages (from pydeck>=0.1.dev5->streamlit) (5.1.1)\n",
            "Requirement already satisfied: ipywidgets>=7.0.0 in /usr/local/lib/python3.7/dist-packages (from pydeck>=0.1.dev5->streamlit) (7.6.5)\n",
            "Requirement already satisfied: argcomplete>=1.12.3 in /usr/local/lib/python3.7/dist-packages (from ipykernel>=5.1.2->pydeck>=0.1.dev5->streamlit) (1.12.3)\n",
            "Requirement already satisfied: jupyter-client<8.0 in /usr/local/lib/python3.7/dist-packages (from ipykernel>=5.1.2->pydeck>=0.1.dev5->streamlit) (5.3.5)\n",
            "Collecting ipython>=7.23.1\n",
            "  Downloading ipython-7.30.0-py3-none-any.whl (791 kB)\n",
            "\u001b[K     |████████████████████████████████| 791 kB 77.2 MB/s \n",
            "\u001b[?25hRequirement already satisfied: matplotlib-inline<0.2.0,>=0.1.0 in /usr/local/lib/python3.7/dist-packages (from ipykernel>=5.1.2->pydeck>=0.1.dev5->streamlit) (0.1.3)\n",
            "Requirement already satisfied: importlib-metadata<5 in /usr/local/lib/python3.7/dist-packages (from ipykernel>=5.1.2->pydeck>=0.1.dev5->streamlit) (4.8.2)\n",
            "Requirement already satisfied: debugpy<2.0,>=1.0.0 in /usr/local/lib/python3.7/dist-packages (from ipykernel>=5.1.2->pydeck>=0.1.dev5->streamlit) (1.0.0)\n",
            "Requirement already satisfied: zipp>=0.5 in /usr/local/lib/python3.7/dist-packages (from importlib-metadata<5->ipykernel>=5.1.2->pydeck>=0.1.dev5->streamlit) (3.6.0)\n",
            "Requirement already satisfied: setuptools>=18.5 in /usr/local/lib/python3.7/dist-packages (from ipython>=7.23.1->ipykernel>=5.1.2->pydeck>=0.1.dev5->streamlit) (57.4.0)\n",
            "Requirement already satisfied: decorator in /usr/local/lib/python3.7/dist-packages (from ipython>=7.23.1->ipykernel>=5.1.2->pydeck>=0.1.dev5->streamlit) (4.4.2)\n",
            "Requirement already satisfied: pygments in /usr/local/lib/python3.7/dist-packages (from ipython>=7.23.1->ipykernel>=5.1.2->pydeck>=0.1.dev5->streamlit) (2.6.1)\n",
            "Requirement already satisfied: pickleshare in /usr/local/lib/python3.7/dist-packages (from ipython>=7.23.1->ipykernel>=5.1.2->pydeck>=0.1.dev5->streamlit) (0.7.5)\n",
            "Collecting prompt-toolkit!=3.0.0,!=3.0.1,<3.1.0,>=2.0.0\n",
            "  Downloading prompt_toolkit-3.0.23-py3-none-any.whl (374 kB)\n",
            "\u001b[K     |████████████████████████████████| 374 kB 42.8 MB/s \n",
            "\u001b[?25hRequirement already satisfied: backcall in /usr/local/lib/python3.7/dist-packages (from ipython>=7.23.1->ipykernel>=5.1.2->pydeck>=0.1.dev5->streamlit) (0.2.0)\n",
            "Requirement already satisfied: pexpect>4.3 in /usr/local/lib/python3.7/dist-packages (from ipython>=7.23.1->ipykernel>=5.1.2->pydeck>=0.1.dev5->streamlit) (4.8.0)\n",
            "Requirement already satisfied: jedi>=0.16 in /usr/local/lib/python3.7/dist-packages (from ipython>=7.23.1->ipykernel>=5.1.2->pydeck>=0.1.dev5->streamlit) (0.18.1)\n",
            "Requirement already satisfied: jupyterlab-widgets>=1.0.0 in /usr/local/lib/python3.7/dist-packages (from ipywidgets>=7.0.0->pydeck>=0.1.dev5->streamlit) (1.0.2)\n",
            "Requirement already satisfied: ipython-genutils~=0.2.0 in /usr/local/lib/python3.7/dist-packages (from ipywidgets>=7.0.0->pydeck>=0.1.dev5->streamlit) (0.2.0)\n",
            "Requirement already satisfied: nbformat>=4.2.0 in /usr/local/lib/python3.7/dist-packages (from ipywidgets>=7.0.0->pydeck>=0.1.dev5->streamlit) (5.1.3)\n",
            "Requirement already satisfied: widgetsnbextension~=3.5.0 in /usr/local/lib/python3.7/dist-packages (from ipywidgets>=7.0.0->pydeck>=0.1.dev5->streamlit) (3.5.2)\n",
            "Requirement already satisfied: parso<0.9.0,>=0.8.0 in /usr/local/lib/python3.7/dist-packages (from jedi>=0.16->ipython>=7.23.1->ipykernel>=5.1.2->pydeck>=0.1.dev5->streamlit) (0.8.2)\n",
            "Requirement already satisfied: MarkupSafe>=0.23 in /usr/local/lib/python3.7/dist-packages (from jinja2->altair>=3.2.0->streamlit) (2.0.1)\n",
            "Requirement already satisfied: pyzmq>=13 in /usr/local/lib/python3.7/dist-packages (from jupyter-client<8.0->ipykernel>=5.1.2->pydeck>=0.1.dev5->streamlit) (22.3.0)\n",
            "Requirement already satisfied: jupyter-core>=4.6.0 in /usr/local/lib/python3.7/dist-packages (from jupyter-client<8.0->ipykernel>=5.1.2->pydeck>=0.1.dev5->streamlit) (4.9.1)\n",
            "Requirement already satisfied: ptyprocess>=0.5 in /usr/local/lib/python3.7/dist-packages (from pexpect>4.3->ipython>=7.23.1->ipykernel>=5.1.2->pydeck>=0.1.dev5->streamlit) (0.7.0)\n",
            "Requirement already satisfied: wcwidth in /usr/local/lib/python3.7/dist-packages (from prompt-toolkit!=3.0.0,!=3.0.1,<3.1.0,>=2.0.0->ipython>=7.23.1->ipykernel>=5.1.2->pydeck>=0.1.dev5->streamlit) (0.2.5)\n",
            "Requirement already satisfied: notebook>=4.4.1 in /usr/local/lib/python3.7/dist-packages (from widgetsnbextension~=3.5.0->ipywidgets>=7.0.0->pydeck>=0.1.dev5->streamlit) (5.3.1)\n",
            "Requirement already satisfied: terminado>=0.8.1 in /usr/local/lib/python3.7/dist-packages (from notebook>=4.4.1->widgetsnbextension~=3.5.0->ipywidgets>=7.0.0->pydeck>=0.1.dev5->streamlit) (0.12.1)\n",
            "Requirement already satisfied: nbconvert in /usr/local/lib/python3.7/dist-packages (from notebook>=4.4.1->widgetsnbextension~=3.5.0->ipywidgets>=7.0.0->pydeck>=0.1.dev5->streamlit) (5.6.1)\n",
            "Requirement already satisfied: Send2Trash in /usr/local/lib/python3.7/dist-packages (from notebook>=4.4.1->widgetsnbextension~=3.5.0->ipywidgets>=7.0.0->pydeck>=0.1.dev5->streamlit) (1.8.0)\n",
            "Requirement already satisfied: mistune<2,>=0.8.1 in /usr/local/lib/python3.7/dist-packages (from nbconvert->notebook>=4.4.1->widgetsnbextension~=3.5.0->ipywidgets>=7.0.0->pydeck>=0.1.dev5->streamlit) (0.8.4)\n",
            "Requirement already satisfied: bleach in /usr/local/lib/python3.7/dist-packages (from nbconvert->notebook>=4.4.1->widgetsnbextension~=3.5.0->ipywidgets>=7.0.0->pydeck>=0.1.dev5->streamlit) (4.1.0)\n",
            "Requirement already satisfied: pandocfilters>=1.4.1 in /usr/local/lib/python3.7/dist-packages (from nbconvert->notebook>=4.4.1->widgetsnbextension~=3.5.0->ipywidgets>=7.0.0->pydeck>=0.1.dev5->streamlit) (1.5.0)\n",
            "Requirement already satisfied: testpath in /usr/local/lib/python3.7/dist-packages (from nbconvert->notebook>=4.4.1->widgetsnbextension~=3.5.0->ipywidgets>=7.0.0->pydeck>=0.1.dev5->streamlit) (0.5.0)\n",
            "Requirement already satisfied: defusedxml in /usr/local/lib/python3.7/dist-packages (from nbconvert->notebook>=4.4.1->widgetsnbextension~=3.5.0->ipywidgets>=7.0.0->pydeck>=0.1.dev5->streamlit) (0.7.1)\n",
            "Requirement already satisfied: webencodings in /usr/local/lib/python3.7/dist-packages (from bleach->nbconvert->notebook>=4.4.1->widgetsnbextension~=3.5.0->ipywidgets>=7.0.0->pydeck>=0.1.dev5->streamlit) (0.5.1)\n",
            "Requirement already satisfied: pyparsing!=3.0.5,>=2.0.2 in /usr/local/lib/python3.7/dist-packages (from packaging->streamlit) (3.0.6)\n",
            "Requirement already satisfied: chardet<4,>=3.0.2 in /usr/local/lib/python3.7/dist-packages (from requests->streamlit) (3.0.4)\n",
            "Requirement already satisfied: urllib3!=1.25.0,!=1.25.1,<1.26,>=1.21.1 in /usr/local/lib/python3.7/dist-packages (from requests->streamlit) (1.24.3)\n",
            "Requirement already satisfied: certifi>=2017.4.17 in /usr/local/lib/python3.7/dist-packages (from requests->streamlit) (2021.10.8)\n",
            "Requirement already satisfied: idna<3,>=2.5 in /usr/local/lib/python3.7/dist-packages (from requests->streamlit) (2.10)\n",
            "Building wheels for collected packages: pympler, blinker\n",
            "  Building wheel for pympler (setup.py) ... \u001b[?25l\u001b[?25hdone\n",
            "  Created wheel for pympler: filename=Pympler-0.9-py3-none-any.whl size=164824 sha256=e297f028425cdba1dea3ac0d7fe530909e508fcdd729bbe78a6765f6b3d4075e\n",
            "  Stored in directory: /root/.cache/pip/wheels/1a/f3/d8/35d5614ea4ddd295ffb9372a5f2f9570d9593d1ea4be33ec6d\n",
            "  Building wheel for blinker (setup.py) ... \u001b[?25l\u001b[?25hdone\n",
            "  Created wheel for blinker: filename=blinker-1.4-py3-none-any.whl size=13478 sha256=87c638c0a9c08f375680800f3c39a6c688315c42dbd68b9fbb94e1efa78724ee\n",
            "  Stored in directory: /root/.cache/pip/wheels/22/f5/18/df711b66eb25b21325c132757d4314db9ac5e8dabeaf196eab\n",
            "Successfully built pympler blinker\n",
            "Installing collected packages: prompt-toolkit, ipython, ipykernel, smmap, gitdb, watchdog, validators, pympler, pydeck, gitpython, blinker, base58, streamlit\n",
            "  Attempting uninstall: prompt-toolkit\n",
            "    Found existing installation: prompt-toolkit 1.0.18\n",
            "    Uninstalling prompt-toolkit-1.0.18:\n",
            "      Successfully uninstalled prompt-toolkit-1.0.18\n",
            "  Attempting uninstall: ipython\n",
            "    Found existing installation: ipython 5.5.0\n",
            "    Uninstalling ipython-5.5.0:\n",
            "      Successfully uninstalled ipython-5.5.0\n",
            "  Attempting uninstall: ipykernel\n",
            "    Found existing installation: ipykernel 4.10.1\n",
            "    Uninstalling ipykernel-4.10.1:\n",
            "      Successfully uninstalled ipykernel-4.10.1\n",
            "\u001b[31mERROR: pip's dependency resolver does not currently take into account all the packages that are installed. This behaviour is the source of the following dependency conflicts.\n",
            "jupyter-console 5.2.0 requires prompt-toolkit<2.0.0,>=1.0.0, but you have prompt-toolkit 3.0.23 which is incompatible.\n",
            "google-colab 1.0.0 requires ipykernel~=4.10, but you have ipykernel 6.5.1 which is incompatible.\n",
            "google-colab 1.0.0 requires ipython~=5.5.0, but you have ipython 7.30.0 which is incompatible.\u001b[0m\n",
            "Successfully installed base58-2.1.1 blinker-1.4 gitdb-4.0.9 gitpython-3.1.24 ipykernel-6.5.1 ipython-7.30.0 prompt-toolkit-3.0.23 pydeck-0.7.1 pympler-0.9 smmap-5.0.0 streamlit-1.2.0 validators-0.18.2 watchdog-2.1.6\n"
          ]
        },
        {
          "output_type": "display_data",
          "data": {
            "application/vnd.colab-display-data+json": {
              "pip_warning": {
                "packages": [
                  "IPython",
                  "ipykernel",
                  "prompt_toolkit"
                ]
              }
            }
          },
          "metadata": {}
        },
        {
          "output_type": "stream",
          "name": "stdout",
          "text": [
            "time: 13.7 s (started: 2021-11-30 09:40:17 +00:00)\n"
          ]
        }
      ]
    },
    {
      "cell_type": "code",
      "metadata": {
        "id": "m1cI57qIT-_r",
        "colab": {
          "base_uri": "https://localhost:8080/"
        },
        "outputId": "1a26bba7-06b6-4489-f8c7-28a1d846a16e"
      },
      "source": [
        "!pip install pyngrok\n",
        "from pyngrok import ngrok"
      ],
      "execution_count": null,
      "outputs": [
        {
          "output_type": "stream",
          "name": "stdout",
          "text": [
            "Collecting pyngrok\n",
            "  Downloading pyngrok-5.1.0.tar.gz (745 kB)\n",
            "\u001b[?25l\r\u001b[K     |▍                               | 10 kB 26.8 MB/s eta 0:00:01\r\u001b[K     |▉                               | 20 kB 29.9 MB/s eta 0:00:01\r\u001b[K     |█▎                              | 30 kB 20.2 MB/s eta 0:00:01\r\u001b[K     |█▊                              | 40 kB 16.7 MB/s eta 0:00:01\r\u001b[K     |██▏                             | 51 kB 5.7 MB/s eta 0:00:01\r\u001b[K     |██▋                             | 61 kB 6.1 MB/s eta 0:00:01\r\u001b[K     |███                             | 71 kB 5.6 MB/s eta 0:00:01\r\u001b[K     |███▌                            | 81 kB 6.3 MB/s eta 0:00:01\r\u001b[K     |████                            | 92 kB 6.5 MB/s eta 0:00:01\r\u001b[K     |████▍                           | 102 kB 5.4 MB/s eta 0:00:01\r\u001b[K     |████▉                           | 112 kB 5.4 MB/s eta 0:00:01\r\u001b[K     |█████▎                          | 122 kB 5.4 MB/s eta 0:00:01\r\u001b[K     |█████▊                          | 133 kB 5.4 MB/s eta 0:00:01\r\u001b[K     |██████▏                         | 143 kB 5.4 MB/s eta 0:00:01\r\u001b[K     |██████▋                         | 153 kB 5.4 MB/s eta 0:00:01\r\u001b[K     |███████                         | 163 kB 5.4 MB/s eta 0:00:01\r\u001b[K     |███████▌                        | 174 kB 5.4 MB/s eta 0:00:01\r\u001b[K     |████████                        | 184 kB 5.4 MB/s eta 0:00:01\r\u001b[K     |████████▍                       | 194 kB 5.4 MB/s eta 0:00:01\r\u001b[K     |████████▉                       | 204 kB 5.4 MB/s eta 0:00:01\r\u001b[K     |█████████▎                      | 215 kB 5.4 MB/s eta 0:00:01\r\u001b[K     |█████████▊                      | 225 kB 5.4 MB/s eta 0:00:01\r\u001b[K     |██████████▏                     | 235 kB 5.4 MB/s eta 0:00:01\r\u001b[K     |██████████▌                     | 245 kB 5.4 MB/s eta 0:00:01\r\u001b[K     |███████████                     | 256 kB 5.4 MB/s eta 0:00:01\r\u001b[K     |███████████▍                    | 266 kB 5.4 MB/s eta 0:00:01\r\u001b[K     |███████████▉                    | 276 kB 5.4 MB/s eta 0:00:01\r\u001b[K     |████████████▎                   | 286 kB 5.4 MB/s eta 0:00:01\r\u001b[K     |████████████▊                   | 296 kB 5.4 MB/s eta 0:00:01\r\u001b[K     |█████████████▏                  | 307 kB 5.4 MB/s eta 0:00:01\r\u001b[K     |█████████████▋                  | 317 kB 5.4 MB/s eta 0:00:01\r\u001b[K     |██████████████                  | 327 kB 5.4 MB/s eta 0:00:01\r\u001b[K     |██████████████▌                 | 337 kB 5.4 MB/s eta 0:00:01\r\u001b[K     |███████████████                 | 348 kB 5.4 MB/s eta 0:00:01\r\u001b[K     |███████████████▍                | 358 kB 5.4 MB/s eta 0:00:01\r\u001b[K     |███████████████▉                | 368 kB 5.4 MB/s eta 0:00:01\r\u001b[K     |████████████████▎               | 378 kB 5.4 MB/s eta 0:00:01\r\u001b[K     |████████████████▊               | 389 kB 5.4 MB/s eta 0:00:01\r\u001b[K     |█████████████████▏              | 399 kB 5.4 MB/s eta 0:00:01\r\u001b[K     |█████████████████▋              | 409 kB 5.4 MB/s eta 0:00:01\r\u001b[K     |██████████████████              | 419 kB 5.4 MB/s eta 0:00:01\r\u001b[K     |██████████████████▌             | 430 kB 5.4 MB/s eta 0:00:01\r\u001b[K     |███████████████████             | 440 kB 5.4 MB/s eta 0:00:01\r\u001b[K     |███████████████████▍            | 450 kB 5.4 MB/s eta 0:00:01\r\u001b[K     |███████████████████▉            | 460 kB 5.4 MB/s eta 0:00:01\r\u001b[K     |████████████████████▎           | 471 kB 5.4 MB/s eta 0:00:01\r\u001b[K     |████████████████████▋           | 481 kB 5.4 MB/s eta 0:00:01\r\u001b[K     |█████████████████████           | 491 kB 5.4 MB/s eta 0:00:01\r\u001b[K     |█████████████████████▌          | 501 kB 5.4 MB/s eta 0:00:01\r\u001b[K     |██████████████████████          | 512 kB 5.4 MB/s eta 0:00:01\r\u001b[K     |██████████████████████▍         | 522 kB 5.4 MB/s eta 0:00:01\r\u001b[K     |██████████████████████▉         | 532 kB 5.4 MB/s eta 0:00:01\r\u001b[K     |███████████████████████▎        | 542 kB 5.4 MB/s eta 0:00:01\r\u001b[K     |███████████████████████▊        | 552 kB 5.4 MB/s eta 0:00:01\r\u001b[K     |████████████████████████▏       | 563 kB 5.4 MB/s eta 0:00:01\r\u001b[K     |████████████████████████▋       | 573 kB 5.4 MB/s eta 0:00:01\r\u001b[K     |█████████████████████████       | 583 kB 5.4 MB/s eta 0:00:01\r\u001b[K     |█████████████████████████▌      | 593 kB 5.4 MB/s eta 0:00:01\r\u001b[K     |██████████████████████████      | 604 kB 5.4 MB/s eta 0:00:01\r\u001b[K     |██████████████████████████▍     | 614 kB 5.4 MB/s eta 0:00:01\r\u001b[K     |██████████████████████████▉     | 624 kB 5.4 MB/s eta 0:00:01\r\u001b[K     |███████████████████████████▎    | 634 kB 5.4 MB/s eta 0:00:01\r\u001b[K     |███████████████████████████▊    | 645 kB 5.4 MB/s eta 0:00:01\r\u001b[K     |████████████████████████████▏   | 655 kB 5.4 MB/s eta 0:00:01\r\u001b[K     |████████████████████████████▋   | 665 kB 5.4 MB/s eta 0:00:01\r\u001b[K     |█████████████████████████████   | 675 kB 5.4 MB/s eta 0:00:01\r\u001b[K     |█████████████████████████████▌  | 686 kB 5.4 MB/s eta 0:00:01\r\u001b[K     |██████████████████████████████  | 696 kB 5.4 MB/s eta 0:00:01\r\u001b[K     |██████████████████████████████▍ | 706 kB 5.4 MB/s eta 0:00:01\r\u001b[K     |██████████████████████████████▊ | 716 kB 5.4 MB/s eta 0:00:01\r\u001b[K     |███████████████████████████████▏| 727 kB 5.4 MB/s eta 0:00:01\r\u001b[K     |███████████████████████████████▋| 737 kB 5.4 MB/s eta 0:00:01\r\u001b[K     |████████████████████████████████| 745 kB 5.4 MB/s \n",
            "\u001b[?25hRequirement already satisfied: PyYAML in /usr/local/lib/python3.7/dist-packages (from pyngrok) (3.13)\n",
            "Building wheels for collected packages: pyngrok\n",
            "  Building wheel for pyngrok (setup.py) ... \u001b[?25l\u001b[?25hdone\n",
            "  Created wheel for pyngrok: filename=pyngrok-5.1.0-py3-none-any.whl size=19006 sha256=59ba5cc8fc54b38b12af593f063dd001df3b380aefea1e0d719d6551f6fb1a7a\n",
            "  Stored in directory: /root/.cache/pip/wheels/bf/e6/af/ccf6598ecefecd44104069371795cb9b3afbcd16987f6ccfb3\n",
            "Successfully built pyngrok\n",
            "Installing collected packages: pyngrok\n",
            "Successfully installed pyngrok-5.1.0\n",
            "time: 4.28 s (started: 2021-11-30 09:41:30 +00:00)\n"
          ]
        }
      ]
    },
    {
      "cell_type": "code",
      "metadata": {
        "id": "B3kqKZF1Zn2W",
        "colab": {
          "base_uri": "https://localhost:8080/"
        },
        "outputId": "9e833f19-bf30-4c06-95cc-e47d4fa14d0f"
      },
      "source": [
        "!ngrok"
      ],
      "execution_count": null,
      "outputs": [
        {
          "output_type": "stream",
          "name": "stdout",
          "text": [
            "NAME:\n",
            "   ngrok - tunnel local ports to public URLs and inspect traffic\n",
            "\n",
            "DESCRIPTION:\n",
            "    ngrok exposes local networked services behinds NATs and firewalls to the\n",
            "    public internet over a secure tunnel. Share local websites, build/test\n",
            "    webhook consumers and self-host personal services.\n",
            "    Detailed help for each command is available with 'ngrok help <command>'.\n",
            "    Open http://localhost:4040 for ngrok's web interface to inspect traffic.\n",
            "\n",
            "EXAMPLES:\n",
            "    ngrok http 80                    # secure public URL for port 80 web server\n",
            "    ngrok http -subdomain=baz 8080   # port 8080 available at baz.ngrok.io\n",
            "    ngrok http foo.dev:80            # tunnel to host:port instead of localhost\n",
            "    ngrok http https://localhost     # expose a local https server\n",
            "    ngrok tcp 22                     # tunnel arbitrary TCP traffic to port 22\n",
            "    ngrok tls -hostname=foo.com 443  # TLS traffic for foo.com to port 443\n",
            "    ngrok start foo bar baz          # start tunnels from the configuration file\n",
            "\n",
            "VERSION:\n",
            "   2.3.40\n",
            "\n",
            "AUTHOR:\n",
            "  inconshreveable - <alan@ngrok.com>\n",
            "\n",
            "COMMANDS:\n",
            "   authtoken\tsave authtoken to configuration file\n",
            "   credits\tprints author and licensing information\n",
            "   http\t\tstart an HTTP tunnel\n",
            "   start\tstart tunnels by name from the configuration file\n",
            "   tcp\t\tstart a TCP tunnel\n",
            "   tls\t\tstart a TLS tunnel\n",
            "   update\tupdate ngrok to the latest version\n",
            "   version\tprint the version string\n",
            "   help\t\tShows a list of commands or help for one command\n",
            "\n",
            "PYNGROK VERSION:\n",
            "   5.1.0\n",
            "time: 1.03 s (started: 2021-11-30 09:41:40 +00:00)\n"
          ]
        }
      ]
    },
    {
      "cell_type": "code",
      "metadata": {
        "id": "xw_KY584Zsvc",
        "colab": {
          "base_uri": "https://localhost:8080/"
        },
        "outputId": "9e5809ce-aa3f-491f-a843-a4d38fb4996e"
      },
      "source": [
        "%%writefile app.py\n",
        "import streamlit as st\n",
        "import numpy as np\n",
        "from skimage.io import imread\n",
        "from skimage.transform import resize\n",
        "import pickle\n",
        "from PIL import Image\n",
        "st.title('Image classifier using Machine Learning')\n",
        "st.text('Upload The Image')\n",
        "model = pickle.load(open('img_model.p','rb'))\n",
        "uploading_file = st.file_uploader(\"Choose an Image ...\",type=\"jpg\")\n",
        "if uploading_file is not None:\n",
        "  img = Image.open(uploading_file)\n",
        "  st.image(img,caption = 'Uploaded Image')\n",
        "\n",
        "  if st.button('Predict'):\n",
        "    CATEGORIES = ['motorcycle','green grapes','green parrot','locomotive','tiger']\n",
        "    st.write('Result...')\n",
        "    flat_data=[]\n",
        "    img = np.array(img)\n",
        "    img_resized = resize(img,(150,150,3))\n",
        "    flat_data.append(img_resized.flatten())\n",
        "    flat_data = np.array(flat_data)\n",
        "    y_out = model.predict(flat_data)\n",
        "    y_out = CATEGORIES[y_out[0]]\n",
        "    st.title(f'PREDICTED OUTPUT: {y_out}')\n",
        "    q = model.predict_proba(flat_data)\n",
        "    for index, item in enumerate(CATEGORIES):\n",
        "      st.write(f'{item}:{q[0][index]*100}')"
      ],
      "execution_count": null,
      "outputs": [
        {
          "output_type": "stream",
          "name": "stdout",
          "text": [
            "Writing app.py\n",
            "time: 6.84 ms (started: 2021-11-30 09:41:49 +00:00)\n"
          ]
        }
      ]
    },
    {
      "cell_type": "code",
      "metadata": {
        "id": "bmRpGLCEbi6u",
        "colab": {
          "base_uri": "https://localhost:8080/"
        },
        "outputId": "3e6124d8-574d-4c19-a9e0-35fa42b11182"
      },
      "source": [
        "!nohup streamlit run app.py &\n",
        "url = ngrok.connect(port='8501')\n",
        "url\n",
        "print(url)\n",
        "!streamlit run app.py --server.port=80"
      ],
      "execution_count": null,
      "outputs": [
        {
          "output_type": "stream",
          "name": "stdout",
          "text": [
            "nohup: appending output to 'nohup.out'\n",
            "NgrokTunnel: \"http://c571-34-70-197-222.ngrok.io\" -> \"http://localhost:80\"\n",
            "\u001b[0m\n",
            "\u001b[34m\u001b[1m  You can now view your Streamlit app in your browser.\u001b[0m\n",
            "\u001b[0m\n",
            "\u001b[34m  Network URL: \u001b[0m\u001b[1mhttp://172.28.0.2:80\u001b[0m\n",
            "\u001b[34m  External URL: \u001b[0m\u001b[1mhttp://34.70.197.222:80\u001b[0m\n",
            "\u001b[0m\n"
          ]
        }
      ]
    },
    {
      "cell_type": "code",
      "metadata": {
        "colab": {
          "base_uri": "https://localhost:8080/"
        },
        "id": "ZDN3qVl1ekVz",
        "outputId": "3d6c4b8e-2fd8-4a93-b95a-ce2d6e4435bc"
      },
      "source": [
        "!streamlit run app.py --server.port=80"
      ],
      "execution_count": null,
      "outputs": [
        {
          "output_type": "stream",
          "name": "stdout",
          "text": [
            "Usage: streamlit run [OPTIONS] TARGET [ARGS]...\n",
            "\n",
            "Error: Invalid value: File does not exist: app.py\n",
            "time: 1.83 s (started: 2021-11-30 09:40:55 +00:00)\n"
          ]
        }
      ]
    },
    {
      "cell_type": "code",
      "metadata": {
        "id": "0iCtOEXOkm_x",
        "colab": {
          "base_uri": "https://localhost:8080/"
        },
        "outputId": "a9cdcf56-9217-40b0-e79d-2ef00b007492"
      },
      "source": [
        "!streamlit run --server.port 80 app.py >/dev/null"
      ],
      "execution_count": null,
      "outputs": [
        {
          "output_type": "stream",
          "name": "stdout",
          "text": [
            "Usage: streamlit run [OPTIONS] TARGET [ARGS]...\n",
            "\n",
            "Error: Invalid value: File does not exist: app.py\n",
            "time: 1.93 s (started: 2021-11-30 09:41:08 +00:00)\n"
          ]
        }
      ]
    }
  ]
}